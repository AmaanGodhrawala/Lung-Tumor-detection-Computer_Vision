{
 "cells": [
  {
   "cell_type": "code",
   "execution_count": 1,
   "id": "09fe7d7d",
   "metadata": {},
   "outputs": [],
   "source": [
    "from pathlib import Path"
   ]
  },
  {
   "cell_type": "code",
   "execution_count": 6,
   "id": "7c672730",
   "metadata": {},
   "outputs": [],
   "source": [
    "import torch\n",
    "import numpy as np\n",
    "import imgaug\n",
    "import imgaug.augmenters as iaa\n",
    "from imgaug.augmentables.segmaps import SegmentationMapsOnImage"
   ]
  },
  {
   "cell_type": "code",
   "execution_count": 9,
   "id": "4966fce0",
   "metadata": {},
   "outputs": [],
   "source": [
    "class LungDataset(torch.utils.data.Dataset):\n",
    "    def __init__(self, root, augment_params):\n",
    "        self.all_files = self.extract_files(root)\n",
    "        self.augment_params = augment_params\n",
    "        \n",
    "    @staticmethod\n",
    "    def extract_files(root):\n",
    "        \"\"\"\n",
    "        Extract the paths to all slices given the root path (ends with train or val)\n",
    "        \"\"\"\n",
    "        files = []\n",
    "        for subject in root.glob(\"*\"):   # Iterate over the subjects\n",
    "            slice_path = subject/\"data\"  # Get the slices for current subject\n",
    "            for slice in slice_path.glob(\"*\"):\n",
    "                files.append(slice)\n",
    "        return files\n",
    "    \n",
    "    \n",
    "    @staticmethod\n",
    "    def change_img_to_label_path(path):\n",
    "        \"\"\"\n",
    "        Replace data with mask to get the masks\n",
    "        \"\"\"\n",
    "        parts = list(path.parts)\n",
    "        parts[parts.index(\"data\")] = \"masks\"\n",
    "        return Path(*parts)\n",
    "\n",
    "    def augment(self, slice, mask):\n",
    "        \"\"\"\n",
    "        Augments slice and segmentation mask in the exact same way\n",
    "        Note the manual seed initialization\n",
    "        \"\"\"\n",
    "        ###################IMPORTANT###################\n",
    "        # Fix for https://discuss.pytorch.org/t/dataloader-workers-generate-the-same-random-augmentations/28830/2\n",
    "        random_seed = torch.randint(0, 1000000, (1,))[0].item()\n",
    "        imgaug.seed(random_seed)\n",
    "        #####################################################\n",
    "        mask = SegmentationMapsOnImage(mask, mask.shape)\n",
    "        slice_aug, mask_aug = self.augment_params(image=slice, segmentation_maps=mask)\n",
    "        mask_aug = mask_aug.get_arr()\n",
    "        return slice_aug, mask_aug\n",
    "    \n",
    "    def __len__(self):\n",
    "        \"\"\"\n",
    "        Return the length of the dataset (length of all files)\n",
    "        \"\"\"\n",
    "        return len(self.all_files)\n",
    "    \n",
    "    \n",
    "    def __getitem__(self, idx):\n",
    "        \"\"\"\n",
    "        Given an index return the (augmented) slice and corresponding mask\n",
    "        Add another dimension for pytorch\n",
    "        \"\"\"\n",
    "        file_path = self.all_files[idx]\n",
    "        mask_path = self.change_img_to_label_path(file_path)\n",
    "        slice = np.load(file_path)\n",
    "        mask = np.load(mask_path)\n",
    "        \n",
    "        if self.augment_params:\n",
    "            slice, mask = self.augment(slice, mask)\n",
    "        \n",
    "        return np.expand_dims(slice, 0), np.expand_dims(mask, 0)"
   ]
  },
  {
   "cell_type": "code",
   "execution_count": null,
   "id": "f60b6e6c",
   "metadata": {},
   "outputs": [],
   "source": []
  }
 ],
 "metadata": {
  "kernelspec": {
   "display_name": "Python 3",
   "language": "python",
   "name": "python3"
  },
  "language_info": {
   "codemirror_mode": {
    "name": "ipython",
    "version": 3
   },
   "file_extension": ".py",
   "mimetype": "text/x-python",
   "name": "python",
   "nbconvert_exporter": "python",
   "pygments_lexer": "ipython3",
   "version": "3.9.2"
  }
 },
 "nbformat": 4,
 "nbformat_minor": 5
}
